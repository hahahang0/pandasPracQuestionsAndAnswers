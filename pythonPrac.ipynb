{
 "cells": [
  {
   "cell_type": "code",
   "execution_count": 2,
   "metadata": {},
   "outputs": [],
   "source": [
    "import numpy as np \n",
    "import pandas as pd \n",
    "import matplotlib.pyplot as ppt"
   ]
  },
  {
   "cell_type": "code",
   "execution_count": 3,
   "metadata": {},
   "outputs": [
    {
     "name": "stdout",
     "output_type": "stream",
     "text": [
      "0     hang\n",
      "1     thim\n",
      "2    limbu\n",
      "dtype: object\n"
     ]
    }
   ],
   "source": [
    "# how to create a series from list , numpy array and dict \n",
    "t_list = ['hang','thim','limbu']\n",
    "pd_series_from_list = pd.Series(t_list)\n",
    "print(pd_series_from_list)"
   ]
  },
  {
   "cell_type": "code",
   "execution_count": 4,
   "metadata": {},
   "outputs": [
    {
     "name": "stdout",
     "output_type": "stream",
     "text": [
      "name                     hangthim\n",
      "address         britamode , jhapa\n",
      "phone number           9824096555\n",
      "dtype: object\n"
     ]
    }
   ],
   "source": [
    "t_dict = {\n",
    "    \"name\" : \"hangthim\",\n",
    "    \"address\" :  \"britamode , jhapa\",\n",
    "    \"phone number\" : \"9824096555\"\n",
    "}\n",
    "\n",
    "td_series_from_dict = pd.Series(t_dict)\n",
    "print(td_series_from_dict)"
   ]
  },
  {
   "cell_type": "code",
   "execution_count": 5,
   "metadata": {},
   "outputs": [
    {
     "name": "stdout",
     "output_type": "stream",
     "text": [
      "0    1\n",
      "1    2\n",
      "2    3\n",
      "3    4\n",
      "4    5\n",
      "5    6\n",
      "6    7\n",
      "7    8\n",
      "dtype: int32\n"
     ]
    }
   ],
   "source": [
    "#numpy array to pandas series \n",
    "numpy_array = np.array([1,2,3,4,5,6,7,8])\n",
    "NumpyArrayToPandasSeries = pd.Series(numpy_array)\n",
    "print(NumpyArrayToPandasSeries)"
   ]
  },
  {
   "cell_type": "code",
   "execution_count": 6,
   "metadata": {},
   "outputs": [
    {
     "name": "stdout",
     "output_type": "stream",
     "text": [
      "   index  0\n",
      "0     10  0\n",
      "1     11  1\n",
      "2     12  2\n",
      "3     13  3\n",
      "4     14  4\n",
      "5     15  5\n",
      "6     16  6\n",
      "7     17  7\n",
      "8     18  8\n",
      "9     19  9\n"
     ]
    }
   ],
   "source": [
    "#How to combine many series to form a dataframe \n",
    "series1 = np.arange(0,10)\n",
    "# print(series1)\n",
    "series2 = np.arange(10,20)\n",
    "# print(series2)\n",
    "\n",
    "pd_dataframe = pd.DataFrame(series1,series2).reset_index()\n",
    "print(pd_dataframe)"
   ]
  },
  {
   "cell_type": "code",
   "execution_count": 7,
   "metadata": {},
   "outputs": [],
   "source": [
    "# 3. How to get the items of series A not present in series B?\n",
    "ser1 = pd.Series([1, 2, 3, 4, 5])\n",
    "ser2 = pd.Series([4, 5, 6, 7, 8])\n",
    "# notInB = ser1[~ser1.isin(ser2)]\n",
    "# notInB = \n",
    "# print(notInB)"
   ]
  },
  {
   "cell_type": "code",
   "execution_count": 8,
   "metadata": {},
   "outputs": [],
   "source": [
    "\n",
    "\n",
    "# 4. How to get the items not common to both series A and series B?\n",
    "ser1 = pd.Series([1, 2, 3, 4, 5])\n",
    "ser2 = pd.Series([4, 5, 6, 7, 8])\n",
    "# a_not_b = ser1[~ser1.isin(ser2)]\n",
    "# b_not_a = ser2[~ser2.isin(ser1)]\n",
    "# result = a_not_b.append(b_not_a,ignore_index=True)\n",
    "a_not_b = ser1[~ser1.isin(ser2)]\n",
    "b_not_a = ser2[~ser2.isin(ser1)]\n",
    "                          \n",
    "# result = pd.concat([a_not_b,b_not_a])\n",
    "# result = a_not_b.append(b_not_a,ignore_index=True)\n",
    "# print(result)\n"
   ]
  },
  {
   "cell_type": "code",
   "execution_count": 9,
   "metadata": {},
   "outputs": [
    {
     "data": {
      "text/plain": [
       "count    25.000000\n",
       "mean     10.435437\n",
       "std       4.253118\n",
       "min       1.251173\n",
       "25%       7.709865\n",
       "50%      10.922593\n",
       "75%      13.363604\n",
       "max      18.094908\n",
       "dtype: float64"
      ]
     },
     "execution_count": 9,
     "metadata": {},
     "output_type": "execute_result"
    }
   ],
   "source": [
    "# how to get useful infos ! \n",
    "state = np.random.RandomState(100)\n",
    "ser = pd.Series(state.normal(10, 5, 25))\n",
    "\n",
    "ser.describe()"
   ]
  },
  {
   "cell_type": "code",
   "execution_count": 10,
   "metadata": {},
   "outputs": [
    {
     "name": "stdout",
     "output_type": "stream",
     "text": [
      "b    6\n",
      "c    6\n",
      "a    5\n",
      "e    5\n",
      "f    3\n",
      "h    2\n",
      "g    2\n",
      "d    1\n",
      "Name: count, dtype: int64\n"
     ]
    }
   ],
   "source": [
    "#How to get frequency counts of unique items of a series?\n",
    "ser = pd.Series(np.take(list('abcdefgh'), np.random.randint(8, size=30)))\n",
    "print(ser.value_counts())"
   ]
  },
  {
   "cell_type": "code",
   "execution_count": 23,
   "metadata": {},
   "outputs": [
    {
     "data": {
      "text/html": [
       "<div>\n",
       "<style scoped>\n",
       "    .dataframe tbody tr th:only-of-type {\n",
       "        vertical-align: middle;\n",
       "    }\n",
       "\n",
       "    .dataframe tbody tr th {\n",
       "        vertical-align: top;\n",
       "    }\n",
       "\n",
       "    .dataframe thead th {\n",
       "        text-align: right;\n",
       "    }\n",
       "</style>\n",
       "<table border=\"1\" class=\"dataframe\">\n",
       "  <thead>\n",
       "    <tr style=\"text-align: right;\">\n",
       "      <th></th>\n",
       "      <th>0</th>\n",
       "      <th>1</th>\n",
       "      <th>2</th>\n",
       "      <th>3</th>\n",
       "      <th>4</th>\n",
       "    </tr>\n",
       "  </thead>\n",
       "  <tbody>\n",
       "    <tr>\n",
       "      <th>0</th>\n",
       "      <td>9</td>\n",
       "      <td>6</td>\n",
       "      <td>3</td>\n",
       "      <td>4</td>\n",
       "      <td>9</td>\n",
       "    </tr>\n",
       "    <tr>\n",
       "      <th>1</th>\n",
       "      <td>7</td>\n",
       "      <td>8</td>\n",
       "      <td>7</td>\n",
       "      <td>2</td>\n",
       "      <td>2</td>\n",
       "    </tr>\n",
       "    <tr>\n",
       "      <th>2</th>\n",
       "      <td>7</td>\n",
       "      <td>4</td>\n",
       "      <td>8</td>\n",
       "      <td>4</td>\n",
       "      <td>2</td>\n",
       "    </tr>\n",
       "    <tr>\n",
       "      <th>3</th>\n",
       "      <td>5</td>\n",
       "      <td>8</td>\n",
       "      <td>5</td>\n",
       "      <td>5</td>\n",
       "      <td>1</td>\n",
       "    </tr>\n",
       "    <tr>\n",
       "      <th>4</th>\n",
       "      <td>4</td>\n",
       "      <td>9</td>\n",
       "      <td>9</td>\n",
       "      <td>1</td>\n",
       "      <td>4</td>\n",
       "    </tr>\n",
       "    <tr>\n",
       "      <th>5</th>\n",
       "      <td>9</td>\n",
       "      <td>6</td>\n",
       "      <td>9</td>\n",
       "      <td>6</td>\n",
       "      <td>7</td>\n",
       "    </tr>\n",
       "    <tr>\n",
       "      <th>6</th>\n",
       "      <td>6</td>\n",
       "      <td>7</td>\n",
       "      <td>2</td>\n",
       "      <td>2</td>\n",
       "      <td>9</td>\n",
       "    </tr>\n",
       "  </tbody>\n",
       "</table>\n",
       "</div>"
      ],
      "text/plain": [
       "   0  1  2  3  4\n",
       "0  9  6  3  4  9\n",
       "1  7  8  7  2  2\n",
       "2  7  4  8  4  2\n",
       "3  5  8  5  5  1\n",
       "4  4  9  9  1  4\n",
       "5  9  6  9  6  7\n",
       "6  6  7  2  2  9"
      ]
     },
     "execution_count": 23,
     "metadata": {},
     "output_type": "execute_result"
    }
   ],
   "source": [
    "\n",
    "\n",
    "# 7. How to convert a numpy array to a dataframe of given shape? (L1)\n",
    "ser = pd.Series(np.random.randint(1, 10, 35))\n",
    "# pd.DataFrame(ser.values).reshape(7,5)\n",
    "pd.DataFrame(np.array(ser).reshape(7,5))\n"
   ]
  },
  {
   "cell_type": "code",
   "execution_count": 35,
   "metadata": {},
   "outputs": [
    {
     "data": {
      "text/plain": [
       "3    3.0\n",
       "6    3.0\n",
       "7    3.0\n",
       "8    3.0\n",
       "dtype: float64"
      ]
     },
     "execution_count": 35,
     "metadata": {},
     "output_type": "execute_result"
    }
   ],
   "source": [
    "\n",
    "\n",
    "# 8. How to find the positions of numbers that are multiples of 3 from a series?\n",
    "\n",
    "# Find the positions of numbers that are multiples of 3 from ser.\n",
    "\n",
    "np.random.RandomState(100)\n",
    "ser = pd.Series(np.random.randint(1, 5, 10))\n",
    "# print(ser)\n",
    "# print(ser[ser.values %3 ==0].index)\n",
    "\n",
    "ser.where(lambda x : x%3==0).dropna()\n"
   ]
  },
  {
   "cell_type": "code",
   "execution_count": 37,
   "metadata": {},
   "outputs": [
    {
     "name": "stdout",
     "output_type": "stream",
     "text": [
      "0     a\n",
      "4     e\n",
      "8     i\n",
      "14    o\n",
      "20    u\n",
      "dtype: object\n"
     ]
    }
   ],
   "source": [
    "\n",
    "\n",
    "# 9. How to extract items at given positions from a series\n",
    "\n",
    "# From ser, extract the items at positions in list pos.\n",
    "\n",
    "ser = pd.Series(list('abcdefghijklmnopqrstuvwxyz'))\n",
    "pos = [0, 4, 8, 14, 20]\n",
    "print(ser.loc[pos])"
   ]
  },
  {
   "cell_type": "code",
   "execution_count": 42,
   "metadata": {},
   "outputs": [
    {
     "name": "stdout",
     "output_type": "stream",
     "text": [
      "0    0\n",
      "1    1\n",
      "2    2\n",
      "3    3\n",
      "4    4\n",
      "0    a\n",
      "1    b\n",
      "2    c\n",
      "3    d\n",
      "4    e\n",
      "dtype: object\n",
      "   0  1\n",
      "0  0  a\n",
      "1  1  b\n",
      "2  2  c\n",
      "3  3  d\n",
      "4  4  e\n"
     ]
    }
   ],
   "source": [
    "# How to stack two series vertically and horizontally ?\n",
    "\n",
    "# Stack ser1 and ser2 vertically and horizontally (to form a dataframe).\n",
    "\n",
    "ser1 = pd.Series(range(5))\n",
    "ser2 = pd.Series(list('abcde'))\n",
    "\n",
    "# this_h_stack =  ser1.hstack(ser2)\n",
    "vertical_stack = pd.concat([ser1,ser2],axis=0)\n",
    "horizontal_stack = pd.concat([ser1,ser2],axis=1)\n",
    "print(vertical_stack)\n",
    "print(horizontal_stack)"
   ]
  },
  {
   "cell_type": "code",
   "execution_count": 50,
   "metadata": {},
   "outputs": [
    {
     "data": {
      "text/plain": [
       "[0, 4, 5, 8]"
      ]
     },
     "execution_count": 50,
     "metadata": {},
     "output_type": "execute_result"
    }
   ],
   "source": [
    "\n",
    "\n",
    "# 11. How to get the positions of items of series A in another series B?\n",
    "\n",
    "# Get the positions of items of ser2 in ser1 as a list.\n",
    "\n",
    "ser1 = pd.Series([10, 9, 6, 5, 3, 1, 12, 8, 13])\n",
    "ser2 = pd.Series([1, 3, 10, 13])\n",
    "list(ser1[ser1.isin(ser2)].index)"
   ]
  },
  {
   "cell_type": "code",
   "execution_count": 68,
   "metadata": {},
   "outputs": [
    {
     "name": "stdout",
     "output_type": "stream",
     "text": [
      "fristDiff 0    NaN\n",
      "1    2.0\n",
      "2    3.0\n",
      "3    4.0\n",
      "4    5.0\n",
      "5    6.0\n",
      "6    6.0\n",
      "7    8.0\n",
      "dtype: float64\n",
      "secondDiff 0    NaN\n",
      "1    NaN\n",
      "2    1.0\n",
      "3    1.0\n",
      "4    1.0\n",
      "5    1.0\n",
      "6    0.0\n",
      "7    2.0\n",
      "dtype: float64\n"
     ]
    }
   ],
   "source": [
    "\n",
    "\n",
    "# 12. How to compute difference of differences between consequtive numbers of a series?\n",
    "\n",
    "# Difference of differences between the consequtive numbers of ser.\n",
    "ser = pd.Series([1, 3, 6, 10, 15, 21, 27, 35])\n",
    "# emptyList = []\n",
    "# for i in range(0,len(ser)-1):\n",
    "#     sum = ser[i+1] - ser[i]\n",
    "#     emptyList.append(sum)\n",
    "\n",
    "\n",
    "# emptyList\n",
    "firstDiff = ser.diff()\n",
    "secondDiff  = firstDiff.diff()\n",
    "print(\"fristDiff\",firstDiff)\n",
    "print(\"secondDiff\",secondDiff)\n",
    "\n",
    "# firstDiff = np.diff(ser)\n",
    "# print(\"first difference\",firstDiff)\n",
    "# secondDiff = np.diff(firstDiff)\n",
    "# print(\"second diff\",secondDiff)\n",
    "    "
   ]
  },
  {
   "cell_type": "code",
   "execution_count": 75,
   "metadata": {},
   "outputs": [
    {
     "data": {
      "text/plain": [
       "0   2010-01-01 00:00:00\n",
       "1   2011-02-02 00:00:00\n",
       "2   2012-03-03 00:00:00\n",
       "3   2013-04-04 00:00:00\n",
       "4   2014-05-05 00:00:00\n",
       "5   2015-06-06 12:20:00\n",
       "dtype: datetime64[ns]"
      ]
     },
     "execution_count": 75,
     "metadata": {},
     "output_type": "execute_result"
    }
   ],
   "source": [
    "# 3. How to convert a series of date-strings to a timeseries?\n",
    "\n",
    "\n",
    "# input\n",
    "ser = pd.Series(['01 Jan 2010', '02-02-2011', '20120303', '2013/04/04', '2014-05-05', '2015-06-06T12:20'])\n",
    "\n",
    "# Convert to datetime with coercion\n",
    "# datetime_series = pd.to_datetime(ser, errors='coerce')\n",
    "# print(datetime_series)\n",
    "from dateutil.parser import parse\n",
    "ser.map(lambda x: parse(x))\n",
    "# pd.to_datetime(ser)\n",
    "# from dateutil.parser import parse\n",
    "# ser.map(lambda x: parse(x))"
   ]
  },
  {
   "cell_type": "code",
   "execution_count": 89,
   "metadata": {},
   "outputs": [
    {
     "name": "stdout",
     "output_type": "stream",
     "text": [
      "['Apple', 'Orange', 'Money']\n"
     ]
    }
   ],
   "source": [
    "\n",
    "\n",
    "# 14. How to filter words that contain atleast 2 vowels from a series?\n",
    "\n",
    "# From ser, extract words that contain atleast 2 vowels.\n",
    "ser = pd.Series(['Apple', 'Orange', 'Plan', 'Python', 'Money'])\n",
    "vowels = \"aeiou\"\n",
    "list_ = []\n",
    "for word in ser:\n",
    "    count = 0\n",
    "    for letter in str(word).lower():\n",
    "        # print(word.lower())\n",
    "        if letter in vowels:\n",
    "            count += 1\n",
    "    if count >= 2 : \n",
    "        list_.append(word)\n",
    "\n",
    "print(list_)\n",
    "        \n",
    "                \n",
    "\n"
   ]
  },
  {
   "cell_type": "code",
   "execution_count": 1,
   "metadata": {},
   "outputs": [
    {
     "name": "stdout",
     "output_type": "stream",
     "text": [
      "Original Series: 0    abc def abcdef icd\n",
      "dtype: object\n",
      "Result Series: 0    abcidefiabcdefiicd\n",
      "dtype: object\n"
     ]
    }
   ],
   "source": [
    "\n",
    "\n",
    "# 15. How to replace missing spaces in a string with the least frequent character?\n",
    "\n",
    "# Replace the spaces in my_str with the least frequent character.\n",
    "# Desired Output\n",
    "\n",
    "# 'dbccdebcabedcggade'  # least frequent is 'c'\n",
    "my_str = 'dbc deb abed ggade'\n",
    "# empty_dict = {}\n",
    "\n",
    "\n",
    "# for letters in my_str:\n",
    "#     if letters not in empty_dict:\n",
    "#         if letters == \" \":\n",
    "#             continue\n",
    "#         count = 1\n",
    "#         empty_dict[letters] = count\n",
    "#     else:\n",
    "#         empty_dict[letters] += 1\n",
    "   \n",
    "# print(empty_dict)\n",
    "\n",
    "\n",
    "# minimum_letter_count = min(empty_dict,key=empty_dict.get)\n",
    "# replacedWithminChar = my_str.replace(\" \",minimum_letter_count)\n",
    "# print(replacedWithminChar)\n",
    "\n",
    "# USING PANDAS \n",
    "import pandas as pd\n",
    "\n",
    "# Original Series\n",
    "ori_series = pd.Series(['abc def abcdef icd'])\n",
    "\n",
    "# Extract the string from the Series\n",
    "string_value = ori_series.iloc[0]\n",
    "\n",
    "# Convert the string into a list of characters and count their frequencies\n",
    "char_counts = pd.Series(list(string_value.replace(\" \", \"\"))).value_counts()\n",
    "\n",
    "# Find the least frequent character\n",
    "least_frequent_char = char_counts.idxmin()\n",
    "\n",
    "# Replace spaces in the string with the least frequent character\n",
    "result_string = string_value.replace(\" \", least_frequent_char)\n",
    "\n",
    "# Convert the result back into a Series\n",
    "result_series = pd.Series([result_string])\n",
    "\n",
    "print(\"Original Series:\", ori_series)\n",
    "print(\"Result Series:\", result_series)\n",
    "\n",
    "\n"
   ]
  },
  {
   "cell_type": "code",
   "execution_count": 4,
   "metadata": {},
   "outputs": [
    {
     "name": "stdout",
     "output_type": "stream",
     "text": [
      "Original series:\n",
      "0      0.363332\n",
      "1     -8.750797\n",
      "2      7.837165\n",
      "3     -6.483741\n",
      "4      5.590267\n",
      "5     -4.477261\n",
      "6     12.041457\n",
      "7      8.046296\n",
      "8     14.723583\n",
      "9     14.557165\n",
      "10    -9.406086\n",
      "11    16.440215\n",
      "12    21.916367\n",
      "13     5.506350\n",
      "14     8.836660\n",
      "dtype: float64\n",
      "[1.0, -0.04, 0.09, 0.2, 0.18, 0.25, -0.05, 0.07, -0.34, 0.33, 0.15]\n"
     ]
    }
   ],
   "source": [
    "#question 34\n",
    "import numpy as np  \n",
    "\n",
    "num_series = pd.Series(np.arange(15) + np.random.normal(1, 10, 15))\n",
    "print(\"Original series:\")\n",
    "print(num_series)\n",
    "autocorrelations = [num_series.autocorr(i).round(2) for i in range(11)]\n",
    "print(autocorrelations)\n"
   ]
  },
  {
   "cell_type": "code",
   "execution_count": 5,
   "metadata": {},
   "outputs": [
    {
     "name": "stdout",
     "output_type": "stream",
     "text": [
      "DatetimeIndex(['2025-01-05', '2025-01-12', '2025-01-19', '2025-01-26',\n",
      "               '2025-02-02', '2025-02-09', '2025-02-16', '2025-02-23',\n",
      "               '2025-03-02', '2025-03-09', '2025-03-16', '2025-03-23',\n",
      "               '2025-03-30', '2025-04-06', '2025-04-13', '2025-04-20',\n",
      "               '2025-04-27', '2025-05-04', '2025-05-11', '2025-05-18',\n",
      "               '2025-05-25', '2025-06-01', '2025-06-08', '2025-06-15',\n",
      "               '2025-06-22', '2025-06-29', '2025-07-06', '2025-07-13',\n",
      "               '2025-07-20', '2025-07-27', '2025-08-03', '2025-08-10',\n",
      "               '2025-08-17', '2025-08-24', '2025-08-31', '2025-09-07',\n",
      "               '2025-09-14', '2025-09-21', '2025-09-28', '2025-10-05',\n",
      "               '2025-10-12', '2025-10-19', '2025-10-26', '2025-11-02',\n",
      "               '2025-11-09', '2025-11-16', '2025-11-23', '2025-11-30',\n",
      "               '2025-12-07', '2025-12-14', '2025-12-21', '2025-12-28'],\n",
      "              dtype='datetime64[ns]', freq='W-SUN')\n"
     ]
    }
   ],
   "source": [
    "#question 35 \n",
    "sundays = pd.date_range('2025-01-01',periods=52,freq='W-SUN')\n",
    "print(sundays)"
   ]
  },
  {
   "cell_type": "code",
   "execution_count": null,
   "metadata": {},
   "outputs": [],
   "source": []
  }
 ],
 "metadata": {
  "kernelspec": {
   "display_name": "Python 3",
   "language": "python",
   "name": "python3"
  },
  "language_info": {
   "codemirror_mode": {
    "name": "ipython",
    "version": 3
   },
   "file_extension": ".py",
   "mimetype": "text/x-python",
   "name": "python",
   "nbconvert_exporter": "python",
   "pygments_lexer": "ipython3",
   "version": "3.10.16"
  }
 },
 "nbformat": 4,
 "nbformat_minor": 2
}
