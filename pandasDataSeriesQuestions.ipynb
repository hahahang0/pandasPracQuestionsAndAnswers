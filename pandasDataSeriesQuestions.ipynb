{
 "cells": [
  {
   "cell_type": "code",
   "execution_count": 2,
   "metadata": {},
   "outputs": [],
   "source": [
    "\n",
    "import numpy as np \n",
    "import pandas as pd\n",
    "import seaborn as sns \n"
   ]
  },
  {
   "cell_type": "code",
   "execution_count": 9,
   "metadata": {},
   "outputs": [
    {
     "name": "stdout",
     "output_type": "stream",
     "text": [
      "0    1\n",
      "1    2\n",
      "2    3\n",
      "3    4\n",
      "4    5\n",
      "dtype: int64\n"
     ]
    }
   ],
   "source": [
    "#question 1 \n",
    "pdSeries = pd.Series([1,2,3,4,5])\n",
    "print(pdSeries)\n"
   ]
  },
  {
   "cell_type": "code",
   "execution_count": 15,
   "metadata": {},
   "outputs": [
    {
     "name": "stdout",
     "output_type": "stream",
     "text": [
      "series 0    1\n",
      "1    2\n",
      "2    3\n",
      "3    4\n",
      "4    5\n",
      "5    6\n",
      "6    7\n",
      "7    8\n",
      "dtype: int64\n",
      "series type  <class 'pandas.core.series.Series'>\n",
      "<class 'list'>\n"
     ]
    }
   ],
   "source": [
    "#question 2 \n",
    "pdSeries = pd.Series([1,2,3,4,5,6,7,8])\n",
    "print(\"series\",pdSeries)\n",
    "print(\"series type \",type(pdSeries))\n",
    "pdSeries.tolist()\n",
    "print(type(pdSeries.tolist()))"
   ]
  },
  {
   "cell_type": "code",
   "execution_count": 16,
   "metadata": {},
   "outputs": [
    {
     "name": "stdout",
     "output_type": "stream",
     "text": [
      "0     2\n",
      "1     4\n",
      "2     6\n",
      "3     8\n",
      "4    10\n",
      "dtype: int64\n",
      "0    0\n",
      "1    0\n",
      "2    0\n",
      "3    0\n",
      "4    0\n",
      "dtype: int64\n",
      "0     1\n",
      "1     4\n",
      "2     9\n",
      "3    16\n",
      "4    25\n",
      "dtype: int64\n",
      "0    1.0\n",
      "1    1.0\n",
      "2    1.0\n",
      "3    1.0\n",
      "4    1.0\n",
      "dtype: float64\n"
     ]
    }
   ],
   "source": [
    "#question 3 \n",
    "series1 = pd.Series([1,2,3,4,5])\n",
    "series2 = pd.Series([1,2,3,4,5])\n",
    "print(series1 + series2)\n",
    "print(series1 - series2)\n",
    "print(series1 * series2)\n",
    "print(series1 / series2)"
   ]
  },
  {
   "cell_type": "code",
   "execution_count": 17,
   "metadata": {},
   "outputs": [
    {
     "name": "stdout",
     "output_type": "stream",
     "text": [
      "0     True\n",
      "1    False\n",
      "2    False\n",
      "3    False\n",
      "4    False\n",
      "dtype: bool\n",
      "0    False\n",
      "1    False\n",
      "2    False\n",
      "3     True\n",
      "4     True\n",
      "dtype: bool\n",
      "0    False\n",
      "1     True\n",
      "2     True\n",
      "3    False\n",
      "4    False\n",
      "dtype: bool\n"
     ]
    }
   ],
   "source": [
    "#question 4 \n",
    "series1 = pd.Series([1,2,3,4,5])\n",
    "series2 = pd.Series([1,5,4,1,2])\n",
    "print(series1 == series2)\n",
    "print(series1 > series2)\n",
    "print(series1 < series2)"
   ]
  },
  {
   "cell_type": "code",
   "execution_count": 18,
   "metadata": {},
   "outputs": [
    {
     "name": "stdout",
     "output_type": "stream",
     "text": [
      "a    100\n",
      "b    200\n",
      "c    300\n",
      "d    400\n",
      "e    800\n",
      "dtype: int64\n"
     ]
    }
   ],
   "source": [
    "#question 5 \n",
    "t_dict = {'a': 100, 'b': 200, 'c': 300, 'd': 400, 'e': 800}\n",
    "pdSeries = pd.Series(t_dict)\n",
    "print(pdSeries)"
   ]
  },
  {
   "cell_type": "code",
   "execution_count": 22,
   "metadata": {},
   "outputs": [
    {
     "name": "stdout",
     "output_type": "stream",
     "text": [
      "0    1\n",
      "1    3\n",
      "2    5\n",
      "dtype: int32\n"
     ]
    }
   ],
   "source": [
    "#question6\n",
    "numpy_array = np.arange(1,6,2)\n",
    "pSeries = pd.Series(numpy_array)\n",
    "print(pSeries)"
   ]
  },
  {
   "cell_type": "code",
   "execution_count": 34,
   "metadata": {},
   "outputs": [
    {
     "name": "stdout",
     "output_type": "stream",
     "text": [
      "original Series 0       100\n",
      "1       200\n",
      "2    python\n",
      "3    300.12\n",
      "4       400\n",
      "dtype: object\n",
      "Original Series Type <class 'pandas.core.series.Series'>\n",
      "changed series type 0    100.00\n",
      "1    200.00\n",
      "2       NaN\n",
      "3    300.12\n",
      "4    400.00\n",
      "dtype: float64\n"
     ]
    }
   ],
   "source": [
    "originalSeries  = pd.Series([100,200,'python',300.12,400])\n",
    "print(\"original Series\",originalSeries)\n",
    "print(\"Original Series Type\",type(originalSeries))\n",
    "# changedTypeSeries = originalSeries.astype(\"float32\",errors=\"ignore\")\n",
    "# print(\"changed series type\",changedTypeSeries)\n",
    "# print(\"type of changed series\",type(changedTypeSeries))\n",
    "changedTypeSeries = pd.to_numeric(originalSeries,errors='coerce')\n",
    "print(\"changed series type\",changedTypeSeries)"
   ]
  },
  {
   "cell_type": "code",
   "execution_count": 3,
   "metadata": {},
   "outputs": [
    {
     "data": {
      "text/html": [
       "<div>\n",
       "<style scoped>\n",
       "    .dataframe tbody tr th:only-of-type {\n",
       "        vertical-align: middle;\n",
       "    }\n",
       "\n",
       "    .dataframe tbody tr th {\n",
       "        vertical-align: top;\n",
       "    }\n",
       "\n",
       "    .dataframe thead th {\n",
       "        text-align: right;\n",
       "    }\n",
       "</style>\n",
       "<table border=\"1\" class=\"dataframe\">\n",
       "  <thead>\n",
       "    <tr style=\"text-align: right;\">\n",
       "      <th></th>\n",
       "      <th>total_bill</th>\n",
       "      <th>tip</th>\n",
       "      <th>sex</th>\n",
       "      <th>smoker</th>\n",
       "      <th>day</th>\n",
       "      <th>time</th>\n",
       "      <th>size</th>\n",
       "    </tr>\n",
       "  </thead>\n",
       "  <tbody>\n",
       "    <tr>\n",
       "      <th>0</th>\n",
       "      <td>16.99</td>\n",
       "      <td>1.01</td>\n",
       "      <td>Female</td>\n",
       "      <td>No</td>\n",
       "      <td>Sun</td>\n",
       "      <td>Dinner</td>\n",
       "      <td>2</td>\n",
       "    </tr>\n",
       "    <tr>\n",
       "      <th>1</th>\n",
       "      <td>10.34</td>\n",
       "      <td>1.66</td>\n",
       "      <td>Male</td>\n",
       "      <td>No</td>\n",
       "      <td>Sun</td>\n",
       "      <td>Dinner</td>\n",
       "      <td>3</td>\n",
       "    </tr>\n",
       "    <tr>\n",
       "      <th>2</th>\n",
       "      <td>21.01</td>\n",
       "      <td>3.50</td>\n",
       "      <td>Male</td>\n",
       "      <td>No</td>\n",
       "      <td>Sun</td>\n",
       "      <td>Dinner</td>\n",
       "      <td>3</td>\n",
       "    </tr>\n",
       "    <tr>\n",
       "      <th>3</th>\n",
       "      <td>23.68</td>\n",
       "      <td>3.31</td>\n",
       "      <td>Male</td>\n",
       "      <td>No</td>\n",
       "      <td>Sun</td>\n",
       "      <td>Dinner</td>\n",
       "      <td>2</td>\n",
       "    </tr>\n",
       "    <tr>\n",
       "      <th>4</th>\n",
       "      <td>24.59</td>\n",
       "      <td>3.61</td>\n",
       "      <td>Female</td>\n",
       "      <td>No</td>\n",
       "      <td>Sun</td>\n",
       "      <td>Dinner</td>\n",
       "      <td>4</td>\n",
       "    </tr>\n",
       "    <tr>\n",
       "      <th>...</th>\n",
       "      <td>...</td>\n",
       "      <td>...</td>\n",
       "      <td>...</td>\n",
       "      <td>...</td>\n",
       "      <td>...</td>\n",
       "      <td>...</td>\n",
       "      <td>...</td>\n",
       "    </tr>\n",
       "    <tr>\n",
       "      <th>239</th>\n",
       "      <td>29.03</td>\n",
       "      <td>5.92</td>\n",
       "      <td>Male</td>\n",
       "      <td>No</td>\n",
       "      <td>Sat</td>\n",
       "      <td>Dinner</td>\n",
       "      <td>3</td>\n",
       "    </tr>\n",
       "    <tr>\n",
       "      <th>240</th>\n",
       "      <td>27.18</td>\n",
       "      <td>2.00</td>\n",
       "      <td>Female</td>\n",
       "      <td>Yes</td>\n",
       "      <td>Sat</td>\n",
       "      <td>Dinner</td>\n",
       "      <td>2</td>\n",
       "    </tr>\n",
       "    <tr>\n",
       "      <th>241</th>\n",
       "      <td>22.67</td>\n",
       "      <td>2.00</td>\n",
       "      <td>Male</td>\n",
       "      <td>Yes</td>\n",
       "      <td>Sat</td>\n",
       "      <td>Dinner</td>\n",
       "      <td>2</td>\n",
       "    </tr>\n",
       "    <tr>\n",
       "      <th>242</th>\n",
       "      <td>17.82</td>\n",
       "      <td>1.75</td>\n",
       "      <td>Male</td>\n",
       "      <td>No</td>\n",
       "      <td>Sat</td>\n",
       "      <td>Dinner</td>\n",
       "      <td>2</td>\n",
       "    </tr>\n",
       "    <tr>\n",
       "      <th>243</th>\n",
       "      <td>18.78</td>\n",
       "      <td>3.00</td>\n",
       "      <td>Female</td>\n",
       "      <td>No</td>\n",
       "      <td>Thur</td>\n",
       "      <td>Dinner</td>\n",
       "      <td>2</td>\n",
       "    </tr>\n",
       "  </tbody>\n",
       "</table>\n",
       "<p>244 rows × 7 columns</p>\n",
       "</div>"
      ],
      "text/plain": [
       "     total_bill   tip     sex smoker   day    time  size\n",
       "0         16.99  1.01  Female     No   Sun  Dinner     2\n",
       "1         10.34  1.66    Male     No   Sun  Dinner     3\n",
       "2         21.01  3.50    Male     No   Sun  Dinner     3\n",
       "3         23.68  3.31    Male     No   Sun  Dinner     2\n",
       "4         24.59  3.61  Female     No   Sun  Dinner     4\n",
       "..          ...   ...     ...    ...   ...     ...   ...\n",
       "239       29.03  5.92    Male     No   Sat  Dinner     3\n",
       "240       27.18  2.00  Female    Yes   Sat  Dinner     2\n",
       "241       22.67  2.00    Male    Yes   Sat  Dinner     2\n",
       "242       17.82  1.75    Male     No   Sat  Dinner     2\n",
       "243       18.78  3.00  Female     No  Thur  Dinner     2\n",
       "\n",
       "[244 rows x 7 columns]"
      ]
     },
     "execution_count": 3,
     "metadata": {},
     "output_type": "execute_result"
    }
   ],
   "source": [
    "tips = sns.load_dataset('tips')\n",
    "tips"
   ]
  },
  {
   "cell_type": "code",
   "execution_count": 6,
   "metadata": {},
   "outputs": [
    {
     "name": "stdout",
     "output_type": "stream",
     "text": [
      "<class 'pandas.core.series.Series'>\n"
     ]
    }
   ],
   "source": [
    "#question 8 \n",
    "temp_df = tips['total_bill']\n",
    "first_col_series = pd.Series(temp_df)\n",
    "print(type(first_col_series))"
   ]
  },
  {
   "cell_type": "code",
   "execution_count": 10,
   "metadata": {},
   "outputs": [
    {
     "name": "stdout",
     "output_type": "stream",
     "text": [
      "<class 'list'>\n",
      "<class 'numpy.ndarray'>\n"
     ]
    }
   ],
   "source": [
    "#question 9\n",
    "pdseries = pd.Series([1,2,3,4,5])\n",
    "print(type(list(pdseries)))\n",
    "print(type(pdseries.values))"
   ]
  },
  {
   "cell_type": "code",
   "execution_count": 12,
   "metadata": {},
   "outputs": [
    {
     "name": "stdout",
     "output_type": "stream",
     "text": [
      "Original Series of list\n",
      "0    [Red, Green, White]\n",
      "1           [Red, Black]\n",
      "2               [Yellow]\n",
      "dtype: object\n",
      "0       Red\n",
      "1     Green\n",
      "2     White\n",
      "3       Red\n",
      "4     Black\n",
      "5    Yellow\n",
      "dtype: object\n"
     ]
    }
   ],
   "source": [
    "s = pd.Series([\n",
    "    ['Red', 'Green', 'White'],\n",
    "    ['Red', 'Black'],\n",
    "    ['Yellow']])\n",
    "print(\"Original Series of list\")\n",
    "print(s)\n",
    "s = s.apply(pd.Series).stack().reset_index(drop=True)\n",
    "print(s)"
   ]
  },
  {
   "cell_type": "code",
   "execution_count": 21,
   "metadata": {},
   "outputs": [
    {
     "name": "stdout",
     "output_type": "stream",
     "text": [
      "<bound method Series.sort_values of 0       100\n",
      "1       200\n",
      "2    python\n",
      "3    300.12\n",
      "4       300\n",
      "5       500\n",
      "6      1000\n",
      "7         2\n",
      "8         1\n",
      "dtype: object>\n"
     ]
    }
   ],
   "source": [
    "pdseries = pd.Series([100,200,'python',300.12,300,500,1000,2,1])\n",
    "print(pdseries.sort_values)"
   ]
  },
  {
   "cell_type": "code",
   "execution_count": 31,
   "metadata": {},
   "outputs": [
    {
     "name": "stdout",
     "output_type": "stream",
     "text": [
      "0       100\n",
      "1       200\n",
      "2    python\n",
      "3    300.12\n",
      "4       400\n",
      "5       500\n",
      "6       php\n",
      "dtype: object\n"
     ]
    }
   ],
   "source": [
    "#question 12 \n",
    "pdseries = pd.Series([100,200,'python',300.12,400])\n",
    "testSeries = pd.Series([500,'php'])\n",
    "new_series = pd.concat([pdseries,testSeries],ignore_index=True)\n",
    "print(new_series)\n"
   ]
  },
  {
   "cell_type": "code",
   "execution_count": 34,
   "metadata": {},
   "outputs": [
    {
     "name": "stdout",
     "output_type": "stream",
     "text": [
      "0      1\n",
      "1      2\n",
      "2      3\n",
      "3      4\n",
      "4      5\n",
      "5      6\n",
      "6      7\n",
      "7      8\n",
      "8      9\n",
      "9     10\n",
      "10    11\n",
      "11    12\n",
      "12    13\n",
      "13    14\n",
      "14    15\n",
      "15    16\n",
      "16    17\n",
      "17    18\n",
      "18    19\n",
      "dtype: int32\n",
      "0    1\n",
      "1    2\n",
      "2    3\n",
      "3    4\n",
      "4    5\n",
      "5    6\n",
      "6    7\n",
      "7    8\n",
      "8    9\n",
      "dtype: int32\n"
     ]
    }
   ],
   "source": [
    "#question 13 \n",
    "pdseries  = pd.Series(np.arange(1,20))\n",
    "print(pdseries)\n",
    "ss = pdseries[pdseries < 10]\n",
    "print(ss)"
   ]
  },
  {
   "cell_type": "code",
   "execution_count": 37,
   "metadata": {},
   "outputs": [
    {
     "name": "stdout",
     "output_type": "stream",
     "text": [
      "0    1\n",
      "1    2\n",
      "2    3\n",
      "3    4\n",
      "4    5\n",
      "dtype: int64\n",
      "0    1\n",
      "4    5\n",
      "3    4\n",
      "2    3\n",
      "1    2\n",
      "dtype: int64\n"
     ]
    }
   ],
   "source": [
    "#question 14 \n",
    "temp_ser = pd.Series([1,2,3,4,5])\n",
    "print(temp_ser)\n",
    "re_indexed_temp_ser = temp_ser.reindex([0,4,3,2,1])\n",
    "print(re_indexed_temp_ser)"
   ]
  },
  {
   "cell_type": "code",
   "execution_count": 40,
   "metadata": {},
   "outputs": [
    {
     "name": "stdout",
     "output_type": "stream",
     "text": [
      "5.5\n",
      "3.0276503540974917\n"
     ]
    }
   ],
   "source": [
    "#question 15 \n",
    "temp_ser = pd.Series([1,2,3,4,5,6,7,8,9,10])\n",
    "print(temp_ser.mean())\n",
    "print(temp_ser.std())\n"
   ]
  },
  {
   "cell_type": "code",
   "execution_count": 42,
   "metadata": {},
   "outputs": [
    {
     "name": "stdout",
     "output_type": "stream",
     "text": [
      "0    1\n",
      "2    3\n",
      "4    5\n",
      "dtype: int64\n"
     ]
    }
   ],
   "source": [
    "#question 16 \n",
    "ser1 = pd.Series([1,2,3,4,5])\n",
    "ser2 = pd.Series([2,4,6,8,10])\n",
    "print(ser1[~ser1.isin(ser2)])"
   ]
  },
  {
   "cell_type": "code",
   "execution_count": 45,
   "metadata": {},
   "outputs": [
    {
     "name": "stdout",
     "output_type": "stream",
     "text": [
      "2     6\n",
      "3     8\n",
      "4    10\n",
      "dtype: int64 0    1\n",
      "2    3\n",
      "4    5\n",
      "dtype: int64\n"
     ]
    },
    {
     "data": {
      "text/plain": [
       "2     6\n",
       "3     8\n",
       "4    10\n",
       "0     1\n",
       "2     3\n",
       "4     5\n",
       "dtype: int64"
      ]
     },
     "execution_count": 45,
     "metadata": {},
     "output_type": "execute_result"
    }
   ],
   "source": [
    "#question 17 \n",
    "ser2_not_in_ser1 = ser2[~ser2.isin(ser1)]\n",
    "ser1_not_in_ser2 = ser1[~ser1.isin(ser2)]\n",
    "print(ser2_not_in_ser1,ser1_not_in_ser2)\n",
    "pd.concat([ser2_not_in_ser1,ser1_not_in_ser2])"
   ]
  },
  {
   "cell_type": "code",
   "execution_count": 57,
   "metadata": {},
   "outputs": [
    {
     "name": "stdout",
     "output_type": "stream",
     "text": [
      "1.0\n",
      "10.0\n",
      "5.5\n",
      "2.677477910898353\n",
      "count    50.000000\n",
      "mean      5.500000\n",
      "std       2.677478\n",
      "min       1.000000\n",
      "25%       3.250000\n",
      "50%       5.500000\n",
      "75%       7.750000\n",
      "max      10.000000\n",
      "dtype: float64\n"
     ]
    }
   ],
   "source": [
    "temp_ser  = pd.Series(np.linspace(1,10,50))\n",
    "print(temp_ser.min())\n",
    "print(temp_ser.max())\n",
    "print(temp_ser.mean())\n",
    "print(temp_ser.std())\n",
    "print(temp_ser.describe())"
   ]
  },
  {
   "cell_type": "code",
   "execution_count": 58,
   "metadata": {},
   "outputs": [
    {
     "data": {
      "text/html": [
       "<div>\n",
       "<style scoped>\n",
       "    .dataframe tbody tr th:only-of-type {\n",
       "        vertical-align: middle;\n",
       "    }\n",
       "\n",
       "    .dataframe tbody tr th {\n",
       "        vertical-align: top;\n",
       "    }\n",
       "\n",
       "    .dataframe thead th {\n",
       "        text-align: right;\n",
       "    }\n",
       "</style>\n",
       "<table border=\"1\" class=\"dataframe\">\n",
       "  <thead>\n",
       "    <tr style=\"text-align: right;\">\n",
       "      <th></th>\n",
       "      <th>total_bill</th>\n",
       "      <th>tip</th>\n",
       "      <th>sex</th>\n",
       "      <th>smoker</th>\n",
       "      <th>day</th>\n",
       "      <th>time</th>\n",
       "      <th>size</th>\n",
       "    </tr>\n",
       "  </thead>\n",
       "  <tbody>\n",
       "    <tr>\n",
       "      <th>0</th>\n",
       "      <td>16.99</td>\n",
       "      <td>1.01</td>\n",
       "      <td>Female</td>\n",
       "      <td>No</td>\n",
       "      <td>Sun</td>\n",
       "      <td>Dinner</td>\n",
       "      <td>2</td>\n",
       "    </tr>\n",
       "    <tr>\n",
       "      <th>1</th>\n",
       "      <td>10.34</td>\n",
       "      <td>1.66</td>\n",
       "      <td>Male</td>\n",
       "      <td>No</td>\n",
       "      <td>Sun</td>\n",
       "      <td>Dinner</td>\n",
       "      <td>3</td>\n",
       "    </tr>\n",
       "    <tr>\n",
       "      <th>2</th>\n",
       "      <td>21.01</td>\n",
       "      <td>3.50</td>\n",
       "      <td>Male</td>\n",
       "      <td>No</td>\n",
       "      <td>Sun</td>\n",
       "      <td>Dinner</td>\n",
       "      <td>3</td>\n",
       "    </tr>\n",
       "    <tr>\n",
       "      <th>3</th>\n",
       "      <td>23.68</td>\n",
       "      <td>3.31</td>\n",
       "      <td>Male</td>\n",
       "      <td>No</td>\n",
       "      <td>Sun</td>\n",
       "      <td>Dinner</td>\n",
       "      <td>2</td>\n",
       "    </tr>\n",
       "    <tr>\n",
       "      <th>4</th>\n",
       "      <td>24.59</td>\n",
       "      <td>3.61</td>\n",
       "      <td>Female</td>\n",
       "      <td>No</td>\n",
       "      <td>Sun</td>\n",
       "      <td>Dinner</td>\n",
       "      <td>4</td>\n",
       "    </tr>\n",
       "    <tr>\n",
       "      <th>...</th>\n",
       "      <td>...</td>\n",
       "      <td>...</td>\n",
       "      <td>...</td>\n",
       "      <td>...</td>\n",
       "      <td>...</td>\n",
       "      <td>...</td>\n",
       "      <td>...</td>\n",
       "    </tr>\n",
       "    <tr>\n",
       "      <th>239</th>\n",
       "      <td>29.03</td>\n",
       "      <td>5.92</td>\n",
       "      <td>Male</td>\n",
       "      <td>No</td>\n",
       "      <td>Sat</td>\n",
       "      <td>Dinner</td>\n",
       "      <td>3</td>\n",
       "    </tr>\n",
       "    <tr>\n",
       "      <th>240</th>\n",
       "      <td>27.18</td>\n",
       "      <td>2.00</td>\n",
       "      <td>Female</td>\n",
       "      <td>Yes</td>\n",
       "      <td>Sat</td>\n",
       "      <td>Dinner</td>\n",
       "      <td>2</td>\n",
       "    </tr>\n",
       "    <tr>\n",
       "      <th>241</th>\n",
       "      <td>22.67</td>\n",
       "      <td>2.00</td>\n",
       "      <td>Male</td>\n",
       "      <td>Yes</td>\n",
       "      <td>Sat</td>\n",
       "      <td>Dinner</td>\n",
       "      <td>2</td>\n",
       "    </tr>\n",
       "    <tr>\n",
       "      <th>242</th>\n",
       "      <td>17.82</td>\n",
       "      <td>1.75</td>\n",
       "      <td>Male</td>\n",
       "      <td>No</td>\n",
       "      <td>Sat</td>\n",
       "      <td>Dinner</td>\n",
       "      <td>2</td>\n",
       "    </tr>\n",
       "    <tr>\n",
       "      <th>243</th>\n",
       "      <td>18.78</td>\n",
       "      <td>3.00</td>\n",
       "      <td>Female</td>\n",
       "      <td>No</td>\n",
       "      <td>Thur</td>\n",
       "      <td>Dinner</td>\n",
       "      <td>2</td>\n",
       "    </tr>\n",
       "  </tbody>\n",
       "</table>\n",
       "<p>244 rows × 7 columns</p>\n",
       "</div>"
      ],
      "text/plain": [
       "     total_bill   tip     sex smoker   day    time  size\n",
       "0         16.99  1.01  Female     No   Sun  Dinner     2\n",
       "1         10.34  1.66    Male     No   Sun  Dinner     3\n",
       "2         21.01  3.50    Male     No   Sun  Dinner     3\n",
       "3         23.68  3.31    Male     No   Sun  Dinner     2\n",
       "4         24.59  3.61  Female     No   Sun  Dinner     4\n",
       "..          ...   ...     ...    ...   ...     ...   ...\n",
       "239       29.03  5.92    Male     No   Sat  Dinner     3\n",
       "240       27.18  2.00  Female    Yes   Sat  Dinner     2\n",
       "241       22.67  2.00    Male    Yes   Sat  Dinner     2\n",
       "242       17.82  1.75    Male     No   Sat  Dinner     2\n",
       "243       18.78  3.00  Female     No  Thur  Dinner     2\n",
       "\n",
       "[244 rows x 7 columns]"
      ]
     },
     "execution_count": 58,
     "metadata": {},
     "output_type": "execute_result"
    }
   ],
   "source": [
    "#question 19 \n",
    "tips \n"
   ]
  },
  {
   "cell_type": "code",
   "execution_count": 59,
   "metadata": {},
   "outputs": [
    {
     "data": {
      "text/plain": [
       "sex\n",
       "Male      157\n",
       "Female     87\n",
       "Name: count, dtype: int64"
      ]
     },
     "execution_count": 59,
     "metadata": {},
     "output_type": "execute_result"
    }
   ],
   "source": [
    "tips['sex'].value_counts()"
   ]
  },
  {
   "cell_type": "code",
   "execution_count": 72,
   "metadata": {},
   "outputs": [
    {
     "name": "stdout",
     "output_type": "stream",
     "text": [
      "0         1\n",
      "1     Other\n",
      "2     Other\n",
      "3     Other\n",
      "4     Other\n",
      "5         1\n",
      "6     Other\n",
      "7         1\n",
      "8     Other\n",
      "9     Other\n",
      "10        1\n",
      "11    Other\n",
      "12    Other\n",
      "13    Other\n",
      "14    Other\n",
      "15        1\n",
      "16    Other\n",
      "17        1\n",
      "18    Other\n",
      "dtype: object\n"
     ]
    },
    {
     "name": "stderr",
     "output_type": "stream",
     "text": [
      "C:\\Users\\DELL\\AppData\\Local\\Temp\\ipykernel_7940\\3581671040.py:2: FutureWarning: Setting an item of incompatible dtype is deprecated and will raise an error in a future version of pandas. Value 'Other' has dtype incompatible with int64, please explicitly cast to a compatible dtype first.\n",
      "  result = temp_ser[~temp_ser.isin(temp_ser.value_counts().index[:1])] = 'Other'\n"
     ]
    }
   ],
   "source": [
    "temp_ser = pd.Series([1,2,3,4,5,1,2,1,3,4,1,2,6,4,5,1,4,1,2])\n",
    "result = temp_ser[~temp_ser.isin(temp_ser.value_counts().index[:1])] = 'Other'\n",
    "print(temp_ser)\n"
   ]
  },
  {
   "cell_type": "code",
   "execution_count": 82,
   "metadata": {},
   "outputs": [
    {
     "name": "stdout",
     "output_type": "stream",
     "text": [
      "0     5\n",
      "1    14\n",
      "2     0\n",
      "3    14\n",
      "4     7\n",
      "5     1\n",
      "6     6\n",
      "7     3\n",
      "8    11\n",
      "9    11\n",
      "dtype: int32\n"
     ]
    },
    {
     "data": {
      "text/plain": [
       "Index([0, 2], dtype='int64')"
      ]
     },
     "execution_count": 82,
     "metadata": {},
     "output_type": "execute_result"
    }
   ],
   "source": [
    "#question 21 \n",
    "p_ser = pd.Series(np.random.randint(0,15,10))\n",
    "print(p_ser)\n",
    "p_ser[p_ser %5 == 0].index"
   ]
  },
  {
   "cell_type": "code",
   "execution_count": 84,
   "metadata": {},
   "outputs": [
    {
     "name": "stdout",
     "output_type": "stream",
     "text": [
      "0     2\n",
      "2     9\n",
      "6     8\n",
      "11    0\n",
      "21    3\n",
      "dtype: object\n"
     ]
    }
   ],
   "source": [
    "num_series = pd.Series(list('2390238923902390239023'))\n",
    "element_pos = [0, 2, 6, 11, 21]\n",
    "elements_in_pos = num_series.take(element_pos)\n",
    "print(elements_in_pos)"
   ]
  },
  {
   "cell_type": "code",
   "execution_count": 90,
   "metadata": {},
   "outputs": [
    {
     "name": "stdout",
     "output_type": "stream",
     "text": [
      "Index([0, 2, 4, 6, 8], dtype='int64')\n"
     ]
    }
   ],
   "source": [
    "#question 23 \n",
    "ser1 = pd.Series([1,2,3,4,5,6,7,8,9,10])\n",
    "ser2 = pd.Series([1,3,5,7,9])\n",
    "print(ser1[ser1.isin(ser2)].index)\n"
   ]
  },
  {
   "cell_type": "code",
   "execution_count": null,
   "metadata": {},
   "outputs": [
    {
     "name": "stdout",
     "output_type": "stream",
     "text": [
      "0       PhP\n",
      "1    PythoN\n",
      "2       SqL\n",
      "3        CC\n",
      "dtype: object\n"
     ]
    }
   ],
   "source": [
    "#question 24\n",
    "p_ser = pd.Series(['php','python','sql','c'])\n",
    "result = p_ser.map(lambda p_ser: p_ser[0].upper() + p_ser[1:-1] + p_ser[-1].upper() )\n",
    "print(result)\n",
    "\n"
   ]
  },
  {
   "cell_type": "code",
   "execution_count": 103,
   "metadata": {},
   "outputs": [
    {
     "name": "stdout",
     "output_type": "stream",
     "text": [
      "0    3\n",
      "1    6\n",
      "2    3\n",
      "3    1\n",
      "dtype: int64\n"
     ]
    }
   ],
   "source": [
    "#question 25 \n",
    "p_ser\n",
    "result = p_ser.map(lambda x : len(x))\n",
    "print(result)"
   ]
  },
  {
   "cell_type": "code",
   "execution_count": null,
   "metadata": {},
   "outputs": [],
   "source": []
  }
 ],
 "metadata": {
  "kernelspec": {
   "display_name": "Python 3",
   "language": "python",
   "name": "python3"
  },
  "language_info": {
   "codemirror_mode": {
    "name": "ipython",
    "version": 3
   },
   "file_extension": ".py",
   "mimetype": "text/x-python",
   "name": "python",
   "nbconvert_exporter": "python",
   "pygments_lexer": "ipython3",
   "version": "3.10.16"
  }
 },
 "nbformat": 4,
 "nbformat_minor": 2
}
